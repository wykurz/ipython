{
 "metadata": {
  "name": "",
  "signature": "sha256:1534bca9a3949794a5c539e9a6e63e64ce7d142da94869af903bd582184c4591"
 },
 "nbformat": 3,
 "nbformat_minor": 0,
 "worksheets": [
  {
   "cells": [
    {
     "cell_type": "code",
     "collapsed": false,
     "input": [
      "def input():\n",
      "    return '''0.16666666667\n",
      "0.16666666666\n",
      "0.16666666667\n",
      "0.16666666667\n",
      "0.16666666666\n",
      "0.16666666667\n",
      "2'''.split('\\n')"
     ],
     "language": "python",
     "metadata": {},
     "outputs": [],
     "prompt_number": 2
    },
    {
     "cell_type": "code",
     "collapsed": false,
     "input": [
      "import sys\n",
      "\n",
      "l = input()\n",
      "p = []\n",
      "for i in xrange(6):\n",
      "    p.append(float(l[i]))\n",
      "N = long(l[6])\n",
      "\n",
      "ex = sum([(i + 1) * p[i] for i in xrange(6)])\n",
      "ex2 = sum([(i + 1)**2 * p[i] for i in xrange(6)])\n",
      "var = ex2 - ex**2\n",
      "\n",
      "print ex2\n",
      "\n",
      "from math import sqrt\n",
      "\n",
      "print '{0:.5f}\\n{1:.5f}'.format(N * ex, N * var)"
     ],
     "language": "python",
     "metadata": {},
     "outputs": [
      {
       "output_type": "stream",
       "stream": "stdout",
       "text": [
        "15.1666666667\n",
        "7.00000\n",
        "5.83333\n"
       ]
      }
     ],
     "prompt_number": 21
    }
   ],
   "metadata": {}
  }
 ]
}