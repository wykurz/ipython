{
 "metadata": {
  "name": "",
  "signature": "sha256:9192aa39e2e8b7a072efa265299d0a780ec098c7ca6f85175a0b5b536cf48e06"
 },
 "nbformat": 3,
 "nbformat_minor": 0,
 "worksheets": [
  {
   "cells": [
    {
     "cell_type": "markdown",
     "metadata": {},
     "source": [
      "One hundred people line up to board an airplane. Each has a boarding pass with\n",
      "assigned seat. However, the first person to board has lost his boarding pass and takes a random\n",
      "seat. After that, each person takes the assigned seat if it is unoccupied, and one of unoccupied\n",
      "seats at random otherwise. What is the probability that the last person to board gets to sit in\n",
      "his assigned seat?"
     ]
    },
    {
     "cell_type": "code",
     "collapsed": false,
     "input": [
      "from random import randint\n",
      "def r(n):\n",
      "    return randint(0, n - 1)\n",
      "def f(n):\n",
      "    if 1 == n:\n",
      "        return True\n",
      "    s = [True] * n\n",
      "    s[r(n)] = False\n",
      "    def g(m):\n",
      "        if s[m]:\n",
      "            s[m] = False\n",
      "            return\n",
      "        i = r(n - m)\n",
      "        for j in range(n):\n",
      "            if 0 == i and s[j]:\n",
      "                s[j] = False\n",
      "                return\n",
      "            if s[j]:\n",
      "                i -= 1\n",
      "    for i in range(1, n - 1):\n",
      "        g(i)\n",
      "    return not s[n - 1]\n",
      "\n",
      "print f(1)\n",
      "samples = 100000\n",
      "for i in range(1, 11):\n",
      "    print sum([f(i) for _ in range(samples)]) / float(samples)\n"
     ],
     "language": "python",
     "metadata": {},
     "outputs": [
      {
       "output_type": "stream",
       "stream": "stdout",
       "text": [
        "True\n",
        "1.0\n",
        "0.49897"
       ]
      },
      {
       "output_type": "stream",
       "stream": "stdout",
       "text": [
        "\n",
        "0.49925"
       ]
      },
      {
       "output_type": "stream",
       "stream": "stdout",
       "text": [
        "\n",
        "0.49925"
       ]
      },
      {
       "output_type": "stream",
       "stream": "stdout",
       "text": [
        "\n",
        "0.50093"
       ]
      },
      {
       "output_type": "stream",
       "stream": "stdout",
       "text": [
        "\n",
        "0.49809"
       ]
      },
      {
       "output_type": "stream",
       "stream": "stdout",
       "text": [
        "\n",
        "0.50402"
       ]
      },
      {
       "output_type": "stream",
       "stream": "stdout",
       "text": [
        "\n",
        "0.50137"
       ]
      },
      {
       "output_type": "stream",
       "stream": "stdout",
       "text": [
        "\n",
        "0.49903"
       ]
      },
      {
       "output_type": "stream",
       "stream": "stdout",
       "text": [
        "\n",
        "0.50172"
       ]
      },
      {
       "output_type": "stream",
       "stream": "stdout",
       "text": [
        "\n"
       ]
      }
     ],
     "prompt_number": 1
    },
    {
     "cell_type": "code",
     "collapsed": false,
     "input": [
      "from math import fsum\n",
      "print sum([0.1] * 10)\n",
      "print fsum([0.1] * 10)"
     ],
     "language": "python",
     "metadata": {},
     "outputs": [
      {
       "output_type": "stream",
       "stream": "stdout",
       "text": [
        "1.0\n",
        "1.0\n"
       ]
      }
     ],
     "prompt_number": 2
    }
   ],
   "metadata": {}
  }
 ]
}