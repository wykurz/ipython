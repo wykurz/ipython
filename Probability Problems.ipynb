{
 "metadata": {
  "name": "",
  "signature": "sha256:8fe252b8685b22b24e82f13f110f3738339b1b9145c98101564421df7afb89cb"
 },
 "nbformat": 3,
 "nbformat_minor": 0,
 "worksheets": [
  {
   "cells": [
    {
     "cell_type": "markdown",
     "metadata": {},
     "source": [
      "One hundred people line up to board an airplane. Each has a boarding pass with\n",
      "assigned seat. However, the first person to board has lost his boarding pass and takes a random\n",
      "seat. After that, each person takes the assigned seat if it is unoccupied, and one of unoccupied\n",
      "seats at random otherwise. What is the probability that the last person to board gets to sit in\n",
      "his assigned seat?"
     ]
    },
    {
     "cell_type": "code",
     "collapsed": false,
     "input": [
      "from random import randint\n",
      "def r(n):\n",
      "    return randint(0, n - 1)\n",
      "def f(n):\n",
      "    if 1 == n:\n",
      "        return True\n",
      "    s = [True] * n\n",
      "    s[r(n)] = False\n",
      "    def g(m):\n",
      "        if s[m]:\n",
      "            s[m] = False\n",
      "            return\n",
      "        i = r(n - m)\n",
      "        for j in range(n):\n",
      "            if 0 == i and s[j]:\n",
      "                s[j] = False\n",
      "                return\n",
      "            if s[j]:\n",
      "                i -= 1\n",
      "    for i in range(1, n - 1):\n",
      "        g(i)\n",
      "    return not s[n - 1]\n",
      "\n",
      "print f(1)\n",
      "samples = 100000\n",
      "for i in range(1, 11):\n",
      "    print sum([f(i) for _ in range(samples)]) / float(samples)\n"
     ],
     "language": "python",
     "metadata": {},
     "outputs": [
      {
       "output_type": "stream",
       "stream": "stdout",
       "text": [
        "True\n",
        "1.0\n",
        "0.50109"
       ]
      },
      {
       "output_type": "stream",
       "stream": "stdout",
       "text": [
        "\n",
        "0.50054"
       ]
      },
      {
       "output_type": "stream",
       "stream": "stdout",
       "text": [
        "\n",
        "0.50387"
       ]
      },
      {
       "output_type": "stream",
       "stream": "stdout",
       "text": [
        "\n",
        "0.50034"
       ]
      },
      {
       "output_type": "stream",
       "stream": "stdout",
       "text": [
        "\n",
        "0.49963"
       ]
      },
      {
       "output_type": "stream",
       "stream": "stdout",
       "text": [
        "\n",
        "0.50172"
       ]
      },
      {
       "output_type": "stream",
       "stream": "stdout",
       "text": [
        "\n",
        "0.49812"
       ]
      },
      {
       "output_type": "stream",
       "stream": "stdout",
       "text": [
        "\n",
        "0.49915"
       ]
      },
      {
       "output_type": "stream",
       "stream": "stdout",
       "text": [
        "\n",
        "0.50134"
       ]
      },
      {
       "output_type": "stream",
       "stream": "stdout",
       "text": [
        "\n"
       ]
      }
     ],
     "prompt_number": 7
    }
   ],
   "metadata": {}
  }
 ]
}