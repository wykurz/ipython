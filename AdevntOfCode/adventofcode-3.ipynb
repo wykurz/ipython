{
 "cells": [
  {
   "cell_type": "code",
   "execution_count": 1,
   "metadata": {
    "collapsed": false
   },
   "outputs": [
    {
     "name": "stdout",
     "output_type": "stream",
     "text": [
      "{'a': 1, 'b': 231}\n"
     ]
    }
   ],
   "source": [
    "input = '''jio a, +19\n",
    "inc a\n",
    "tpl a\n",
    "inc a\n",
    "tpl a\n",
    "inc a\n",
    "tpl a\n",
    "tpl a\n",
    "inc a\n",
    "inc a\n",
    "tpl a\n",
    "tpl a\n",
    "inc a\n",
    "inc a\n",
    "tpl a\n",
    "inc a\n",
    "inc a\n",
    "tpl a\n",
    "jmp +23\n",
    "tpl a\n",
    "tpl a\n",
    "inc a\n",
    "inc a\n",
    "tpl a\n",
    "inc a\n",
    "inc a\n",
    "tpl a\n",
    "inc a\n",
    "tpl a\n",
    "inc a\n",
    "tpl a\n",
    "inc a\n",
    "tpl a\n",
    "inc a\n",
    "inc a\n",
    "tpl a\n",
    "inc a\n",
    "inc a\n",
    "tpl a\n",
    "tpl a\n",
    "inc a\n",
    "jio a, +8\n",
    "inc b\n",
    "jie a, +4\n",
    "tpl a\n",
    "inc a\n",
    "jmp +2\n",
    "hlf a\n",
    "jmp -7'''\n",
    "\n",
    "s = {'a': 1, 'b': 0}\n",
    "\n",
    "def hlf(g):\n",
    "    s[g['r']] /= 2\n",
    "    return 1\n",
    "\n",
    "def tpl(g):\n",
    "    s[g['r']] *= 3\n",
    "    return 1\n",
    "\n",
    "def inc(g):\n",
    "    s[g['r']] += 1\n",
    "    return 1\n",
    "\n",
    "def jmp(g):\n",
    "    return int(g['d'])\n",
    "\n",
    "def jie(g):\n",
    "    if s[g['r']] % 2 == 0:\n",
    "        return int(g['d'])\n",
    "    return 1\n",
    "\n",
    "def jio(g):\n",
    "    if s[g['r']] == 1:\n",
    "        return int(g['d'])\n",
    "    return 1\n",
    "\n",
    "r = [('hlf (?P<r>.)', hlf),\n",
    "     ('tpl (?P<r>.)', tpl),\n",
    "     ('inc (?P<r>.)', inc),\n",
    "     ('jmp ((?P<d>[+-]\\d+))', jmp),\n",
    "     ('jie (?P<r>.), ((?P<d>[+-]\\d+))', jie),\n",
    "     ('jio (?P<r>.), ((?P<d>[+-]\\d+))', jio)]\n",
    "\n",
    "import re\n",
    "\n",
    "def run(code):\n",
    "    i = 0\n",
    "    while i < len(code):\n",
    "        for m, f in r:\n",
    "            x = re.match(m, code[i])\n",
    "            if x:\n",
    "                found = True\n",
    "                i += f(x.groupdict())\n",
    "                break\n",
    "        assert found\n",
    "\n",
    "run(input.split('\\n'))\n",
    "\n",
    "print s"
   ]
  },
  {
   "cell_type": "code",
   "execution_count": 2,
   "metadata": {
    "collapsed": false
   },
   "outputs": [
    {
     "name": "stdout",
     "output_type": "stream",
     "text": [
      "4\n"
     ]
    }
   ],
   "source": [
    "input = '''1\n",
    "2\n",
    "3\n",
    "7\n",
    "11\n",
    "13\n",
    "17\n",
    "19\n",
    "23\n",
    "31\n",
    "37\n",
    "41\n",
    "43\n",
    "47\n",
    "53\n",
    "59\n",
    "61\n",
    "67\n",
    "71\n",
    "73\n",
    "79\n",
    "83\n",
    "89\n",
    "97\n",
    "101\n",
    "103\n",
    "107\n",
    "109\n",
    "113'''\n",
    "\n",
    "p = [int(s) for s in input.split('\\n')]\n",
    "\n",
    "W = sum(p) / 4\n",
    "\n",
    "dp = [None for _ in range(W + 1)]\n",
    "\n",
    "for x in p:\n",
    "    for i in reversed(range(1, W + 1 - x)):\n",
    "        if dp[i] is not None:\n",
    "            dp[x + i] = dp[i] + 1 if dp[x + i] is None else min(dp[i] + 1, dp[x + i])\n",
    "    dp[x] = 1\n",
    "\n",
    "print dp[W]"
   ]
  },
  {
   "cell_type": "code",
   "execution_count": 3,
   "metadata": {
    "collapsed": false
   },
   "outputs": [],
   "source": [
    "def f(l, s):\n",
    "    n = max(s, max(l)) + 1\n",
    "    dp = [False for _ in range(n)]\n",
    "    for x in l:\n",
    "        for i in reversed(range(n - x)):\n",
    "            dp[x + i] = dp[i] or dp[x + i]\n",
    "        dp[x] = True\n",
    "\n",
    "    return dp[s]"
   ]
  },
  {
   "cell_type": "code",
   "execution_count": 4,
   "metadata": {
    "collapsed": false
   },
   "outputs": [
    {
     "name": "stdout",
     "output_type": "stream",
     "text": [
      "80393059\n"
     ]
    }
   ],
   "source": [
    "import itertools as it\n",
    "\n",
    "ret = None\n",
    "for tidx in it.combinations(range(len(p)), dp[W]):\n",
    "    l = [p[i] for i in tidx]\n",
    "    if sum(l) == W:\n",
    "        t = [p[i] for i in range(len(p)) if i not in tidx]\n",
    "        if f(t, W):\n",
    "            qe = reduce(lambda x, y: x * y, l)\n",
    "            ret = qe if ret is None else min(ret, qe)\n",
    "        \n",
    "print ret"
   ]
  },
  {
   "cell_type": "code",
   "execution_count": 18,
   "metadata": {
    "collapsed": false
   },
   "outputs": [
    {
     "name": "stdout",
     "output_type": "stream",
     "text": [
      "2650453\n"
     ]
    }
   ],
   "source": [
    "# Enter the code at row 2978, column 3083.\n",
    "\n",
    "def f(r, c):\n",
    "    if 1 < r:\n",
    "        return r - 1, c + 1\n",
    "    return c + 1, 1\n",
    "\n",
    "def g(x):\n",
    "    return (x * 252533) % 33554393\n",
    "\n",
    "r, c = 2978, 3083\n",
    "# r, c = 6, 6\n",
    "v = 20151125\n",
    "x, y = 1, 1\n",
    "while (x, y) != (r, c):\n",
    "    x, y = f(x, y)\n",
    "    v = g(v)\n",
    "print v\n",
    "# 18361852"
   ]
  },
  {
   "cell_type": "code",
   "execution_count": null,
   "metadata": {
    "collapsed": true
   },
   "outputs": [],
   "source": []
  }
 ],
 "metadata": {
  "kernelspec": {
   "display_name": "Python 2",
   "language": "python",
   "name": "python2"
  },
  "language_info": {
   "codemirror_mode": {
    "name": "ipython",
    "version": 2
   },
   "file_extension": ".py",
   "mimetype": "text/x-python",
   "name": "python",
   "nbconvert_exporter": "python",
   "pygments_lexer": "ipython2",
   "version": "2.7.11"
  }
 },
 "nbformat": 4,
 "nbformat_minor": 0
}
