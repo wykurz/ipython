{
 "cells": [
  {
   "cell_type": "markdown",
   "metadata": {},
   "source": [
    "Types of Numerical Instability Generally 2 kinds of numerical stability: In context of linear algebra, instabilities caused by proximity to singularities of various kinds In context of solving differential equations, the concern is growth of round-off errors and/or initially small fluctuations This document discusses the first (a) kind"
   ]
  },
  {
   "cell_type": "code",
   "execution_count": 1,
   "metadata": {
    "collapsed": false
   },
   "outputs": [
    {
     "name": "stdout",
     "output_type": "stream",
     "text": [
      "Relative error:  1.49011611383e-09\n",
      "Absolute error:  1.49011611383e-08\n"
     ]
    }
   ],
   "source": [
    "import numpy as np\n",
    "x = np.float64(0.1)\n",
    "y = np.float32(0.1)\n",
    "print 'Relative error: ', abs(x - y)\n",
    "print 'Absolute error: ', abs(x - y) / abs(x)"
   ]
  },
  {
   "cell_type": "markdown",
   "metadata": {},
   "source": [
    "Cancellation examples:"
   ]
  },
  {
   "cell_type": "code",
   "execution_count": 3,
   "metadata": {
    "collapsed": false
   },
   "outputs": [
    {
     "name": "stdout",
     "output_type": "stream",
     "text": [
      "0.770988211545\n",
      "0.5\n"
     ]
    }
   ],
   "source": [
    "from math import sin, cos\n",
    "\n",
    "near_zero = 1.2e-8\n",
    "\n",
    "def f(x):\n",
    "    return (1 - cos(x)) / x**2\n",
    "print f(near_zero)\n",
    "\n",
    "# Rewrite f(x) as g(x) (meaning f(x) == g(x)):\n",
    "def g(x):\n",
    "    return 0.5 * (2 * sin(x / 2) / x)**2\n",
    "\n",
    "print g(near_zero)\n",
    "\n",
    "# for i in range(1, 101):\n",
    "#     val = i * 0.1\n",
    "#     print f(val) - g(val)"
   ]
  },
  {
   "cell_type": "markdown",
   "metadata": {},
   "source": [
    "Summing numbers: https://docs.python.org/2/library/math.html https://en.m.wikipedia.org/wiki/Kahan_summation_algorithm\n",
    "Interestingly, IPython Notebook appears to do the right thing by default, what?\n",
    "IPython session:\n",
    "\n",
    "In [6]: from math import fsum\n",
    "\n",
    "In [7]: sum([0.1] * 10) Out[7]: 0.9999999999999999\n",
    "\n",
    "In [8]: fsum([0.1] * 10) Out[8]: 1.0"
   ]
  },
  {
   "cell_type": "code",
   "execution_count": 5,
   "metadata": {
    "collapsed": false
   },
   "outputs": [
    {
     "name": "stdout",
     "output_type": "stream",
     "text": [
      "1.0\n",
      "1.0\n"
     ]
    }
   ],
   "source": [
    "from math import fsum\n",
    "print sum([0.1] * 10)\n",
    "print fsum([0.1] * 10)"
   ]
  },
  {
   "cell_type": "markdown",
   "metadata": {},
   "source": [
    "Calculations without subtractions are fine, right?"
   ]
  },
  {
   "cell_type": "code",
   "execution_count": 8,
   "metadata": {
    "collapsed": false
   },
   "outputs": [
    {
     "name": "stdout",
     "output_type": "stream",
     "text": [
      "2.24775742463e-07\n",
      "2.2489806506e-07\n",
      "0.000241667578193\n",
      "-0.00217179437214\n",
      "-0.00217179437202\n",
      "0.31675337809\n",
      "-1.71828182846\n",
      "-1.71828182846\n",
      "-1.71828182846\n",
      "-1.71828182846\n"
     ]
    }
   ],
   "source": [
    "def f(n):\n",
    "    return (1 + 1.0 / n)**n\n",
    "\n",
    "from math import exp\n",
    "e = exp(1)\n",
    "\n",
    "for i in range(10, 20):\n",
    "    print f(10**i) - e"
   ]
  },
  {
   "cell_type": "code",
   "execution_count": 10,
   "metadata": {
    "collapsed": false
   },
   "outputs": [
    {
     "name": "stdout",
     "output_type": "stream",
     "text": [
      "2.86924558557e-06\n",
      "2.86924558557e-06\n",
      "2.86924558557e-06\n",
      "6.39033563783e-05\n",
      "6.39033563783e-05\n",
      "6.39033563783e-05\n",
      "0.000552109267035\n",
      "0.00152816348552\n",
      "0.00347884372214\n",
      "0.00347884372214\n",
      "0.0112625424503\n",
      "0.0112625424503\n",
      "0.0112625424503\n",
      "0.0112625424503\n",
      "0.131754051284\n",
      "0.351278735449\n",
      "0.351278735449\n",
      "1.0\n",
      "1.0\n",
      "1.0\n",
      "1.0\n",
      "1.0\n",
      "1.0\n",
      "1.0\n",
      "1.0\n"
     ]
    }
   ],
   "source": [
    "from math import sqrt\n",
    "def identity(x, n):\n",
    "    for i in xrange(n):\n",
    "        x = sqrt(x)\n",
    "    for i in xrange(n):\n",
    "        x = x**2\n",
    "    return x\n",
    "\n",
    "x = 2\n",
    "for i in xrange(35, 60):\n",
    "    print x - identity(x, i)"
   ]
  },
  {
   "cell_type": "code",
   "execution_count": 1,
   "metadata": {
    "collapsed": false
   },
   "outputs": [
    {
     "name": "stdout",
     "output_type": "stream",
     "text": [
      "9.99999456353e-07\n",
      "9.99999500095e-07\n",
      "9.99999456353e-07\n",
      "9.99999499873e-07\n"
     ]
    }
   ],
   "source": [
    "from math import fsum, pi\n",
    "\n",
    "def basel1(n):\n",
    "    r = 0\n",
    "    for i in xrange(n):\n",
    "        r += 1.0 / (i + 1)**2\n",
    "    return r\n",
    "\n",
    "def basel2(n):\n",
    "    r = 0\n",
    "    for i in reversed(xrange(n)):\n",
    "        r += 1.0 / (i + 1)**2\n",
    "    return r\n",
    "\n",
    "def basel3(n):\n",
    "    return sum(1.0 / (i + 1)**2 for i in xrange(n))\n",
    "\n",
    "def basel4(n):\n",
    "    return fsum(1.0 / (i + 1)**2 for i in xrange(n))\n",
    "        \n",
    "x = pi**2 / 6\n",
    "n = 1000000\n",
    "\n",
    "print x - basel1(n)\n",
    "print x - basel2(n)\n",
    "print x - basel3(n)\n",
    "print x - basel4(n)"
   ]
  },
  {
   "cell_type": "markdown",
   "metadata": {
    "collapsed": false
   },
   "source": [
    "Sometimes the rounding errors cancel out and produce a result more accurate than the intermediate calculations."
   ]
  },
  {
   "cell_type": "code",
   "execution_count": 27,
   "metadata": {
    "collapsed": false
   },
   "outputs": [
    {
     "name": "stdout",
     "output_type": "stream",
     "text": [
      "6.07747097092e-09 4.99999996961e-09\n",
      "8.27403709991e-08 5.0000004137e-10\n",
      "8.27403709991e-08 5.0000004137e-11\n",
      "8.27403709991e-08 5.0000004137e-12\n",
      "8.8900582341e-05 5.00044450291e-13\n",
      "0.000799277837359 4.99600361081e-14\n",
      "0.000799277837359 5.10702591328e-15\n"
     ]
    }
   ],
   "source": [
    "# Computing f(x) = (exp(x) - 1) / x == sum(x^i / (i + 1)!)\n",
    "\n",
    "from math import exp, log\n",
    "\n",
    "def f1(x):\n",
    "    if 0 == x:\n",
    "        return 1\n",
    "    return (exp(x) - 1) / x\n",
    "\n",
    "def f2(x):\n",
    "    if 0 == x:\n",
    "        return 1\n",
    "    y = exp(x)\n",
    "    return (y - 1) / log(y)\n",
    "\n",
    "# f(epsilon) ~= 1\n",
    "for i in range(8, 15):\n",
    "    print abs(1 - f1(1.0 / (10**i))), abs(1 - f2(1.0 / (10**i)))\n",
    "    \n",
    "# NOTE: Above doesn't hold if we calculate for powers of 2!\n",
    "# for i in range(30, 40):\n",
    "#     print abs(1 - f1(1.0 / (2**i))), abs(1 - f2(1.0 / (2**i)))"
   ]
  },
  {
   "cell_type": "markdown",
   "metadata": {},
   "source": [
    "Rounding errors are not random."
   ]
  },
  {
   "cell_type": "code",
   "execution_count": 77,
   "metadata": {
    "collapsed": false
   },
   "outputs": [
    {
     "name": "stdout",
     "output_type": "stream",
     "text": [
      "-4.4408920985e-16\n",
      "[ 8.75237658  8.75237658  8.75237658  8.75237658  8.75237658  8.75237658\n",
      "  8.75237658  8.75237658  8.75237658  8.75237658  8.75237658  8.75237658\n",
      "  8.75237658  8.75237658  8.75237658  8.75237658  8.75237658  8.75237658\n",
      "  8.75237658  8.75237658  8.75237658  8.75237658  8.75237658  8.75237658\n",
      "  8.75237658  8.75237658  8.75237658  8.75237658  8.75237658  8.75237658\n",
      "  8.75237658  8.75237658  8.75237658  8.75237658  8.75237658  8.75237658\n",
      "  8.75237658  8.75237658  8.75237658  8.75237658  8.75237658  8.75237658\n",
      "  8.75237658  8.75237658  8.75237658  8.75237658  8.75237658  8.75237658\n",
      "  8.75237658  8.75237658  8.75237658  8.75237658  8.75237658  8.75237658\n",
      "  8.75237658  8.75237658  8.75237658  8.75237658  8.75237658  8.75237658\n",
      "  8.75237658  8.75237658  8.75237658  8.75237658  8.75237658  8.75237658\n",
      "  8.75237658  8.75237658  8.75237658  8.75237658  8.75237658  8.75237658\n",
      "  8.75237658  8.75237658  8.75237658  8.75237658  8.75237658  8.75237658\n",
      "  8.75237658  8.75237658  8.75237658  8.75237658  8.75237658  8.75237658\n",
      "  8.75237658  8.75237658  8.75237658  8.75237658  8.75237658  8.75237658\n",
      "  8.75237658  8.75237658  8.75237658  8.75237658  8.75237658  8.75237658\n",
      "  8.75237658  8.75237658  8.75237658  8.75237658]\n"
     ]
    },
    {
     "ename": "AttributeError",
     "evalue": "'list' object has no attribute 'set_ylim'",
     "output_type": "error",
     "traceback": [
      "\u001b[1;31m---------------------------------------------------------------------------\u001b[0m",
      "\u001b[1;31mAttributeError\u001b[0m                            Traceback (most recent call last)",
      "\u001b[1;32m<ipython-input-77-fa0259f5ad7e>\u001b[0m in \u001b[0;36m<module>\u001b[1;34m()\u001b[0m\n\u001b[0;32m     19\u001b[0m \u001b[1;33m\u001b[0m\u001b[0m\n\u001b[0;32m     20\u001b[0m \u001b[1;31m# axes.set_xlim([xmin,xmax])\u001b[0m\u001b[1;33m\u001b[0m\u001b[1;33m\u001b[0m\u001b[0m\n\u001b[1;32m---> 21\u001b[1;33m \u001b[0maxes\u001b[0m\u001b[1;33m.\u001b[0m\u001b[0mset_ylim\u001b[0m\u001b[1;33m(\u001b[0m\u001b[1;33m[\u001b[0m\u001b[0mt\u001b[0m\u001b[1;33m.\u001b[0m\u001b[0mmin\u001b[0m\u001b[1;33m(\u001b[0m\u001b[1;33m)\u001b[0m\u001b[1;33m,\u001b[0m \u001b[0mt\u001b[0m\u001b[1;33m.\u001b[0m\u001b[0mmax\u001b[0m\u001b[1;33m(\u001b[0m\u001b[1;33m)\u001b[0m\u001b[1;33m]\u001b[0m\u001b[1;33m)\u001b[0m\u001b[1;33m\u001b[0m\u001b[0m\n\u001b[0m",
      "\u001b[1;31mAttributeError\u001b[0m: 'list' object has no attribute 'set_ylim'"
     ]
    },
    {
     "data": {
      "image/png": "[encoded data removed]",
      "text/plain": [
       "<matplotlib.figure.Figure at 0x86af550>"
      ]
     },
     "metadata": {},
     "output_type": "display_data"
    }
   ],
   "source": [
    "import numpy as np\n",
    "\n",
    "def r(x):\n",
    "    p = 622.0 - x * (751.0 - x * (324.0 - x * (59.0 - 4 * x)))\n",
    "    q = 112 - x * (151 - x * (72 - x * (14 - x)))\n",
    "    return p / q\n",
    "\n",
    "a = 1.606\n",
    "t = np.array([a + k * 2**-58 for k in xrange(100)])\n",
    "\n",
    "print t[0] - t[-1]\n",
    "\n",
    "t = r(t)\n",
    "print t\n",
    "\n",
    "import matplotlib.pyplot as plt\n",
    "%matplotlib inline\n",
    "axes = plt.plot(t)\n",
    "\n",
    "# axes.set_xlim([xmin,xmax])\n",
    "axes.set_ylim([t.min(), t.max()])"
   ]
  },
  {
   "cell_type": "code",
   "execution_count": null,
   "metadata": {
    "collapsed": true
   },
   "outputs": [],
   "source": [
    "Page 26 (55)"
   ]
  }
 ],
 "metadata": {
  "kernelspec": {
   "display_name": "Python 2",
   "language": "python",
   "name": "python2"
  },
  "language_info": {
   "codemirror_mode": {
    "name": "ipython",
    "version": 2
   },
   "file_extension": ".py",
   "mimetype": "text/x-python",
   "name": "python",
   "nbconvert_exporter": "python",
   "pygments_lexer": "ipython2",
   "version": "2.7.11"
  }
 },
 "nbformat": 4,
 "nbformat_minor": 0
}
