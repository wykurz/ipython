{
 "cells": [
  {
   "cell_type": "markdown",
   "metadata": {},
   "source": [
    "# Precision vs Accuracy\n",
    "* Precision is the accuracy of basic arithmetic operations used in the computation\n",
    "* Accuracy is the absolute or relative error of the approximate quantity\n",
    "* NOTE: Accuracy is not limited by precision, finite precision arithmetic can simulate any precision with more computation\n",
    "\n",
    "# Measuring Precision\n",
    "## Significant Digits\n",
    "The number of significant digits may be imprecise, prefer to use relative error."
   ]
  },
  {
   "cell_type": "code",
   "execution_count": null,
   "metadata": {
    "collapsed": true
   },
   "outputs": [],
   "source": [
    "# Definition 1: Round down to p-sig. digit number\n",
    "x  = 0.90\n",
    "x1 = 0.99 # 2 correct significant digit, actual difference 0.09\n",
    "x2 = 0.89 # 1 correct significant digit, actual difference 0.01"
   ]
  },
  {
   "cell_type": "code",
   "execution_count": null,
   "metadata": {
    "collapsed": true
   },
   "outputs": [],
   "source": [
    "# Definition 2: Round to nearest p-sig. digit number\n",
    "y  = 0.9951 # --> 0.10\n",
    "y1 = 0.9499 # --> 0.90 , only 1 correct sig. digit\n",
    "y2 = 1.0000 # --> 0.10 , 3 correct sig. digits"
   ]
  },
  {
   "cell_type": "markdown",
   "metadata": {},
   "source": [
    "The last definition avoids issues that the previous two had, but it's still non-ideal"
   ]
  },
  {
   "cell_type": "code",
   "execution_count": null,
   "metadata": {
    "collapsed": true
   },
   "outputs": [],
   "source": [
    "# Definition 3: Numbers x and x' match to p-sig. digits if x - x' < half a unit in p-th sig. digit of x\n",
    "x1 = 0.123\n",
    "x2 = 0.127\n",
    "# 0.004 < (0.01 / 2) => x1 and x2 match in 2 significant digits according to this definition wchich may be slightly confusing "
   ]
  },
  {
   "cell_type": "markdown",
   "metadata": {},
   "source": [
    "## Absolute and relative error"
   ]
  },
  {
   "cell_type": "code",
   "execution_count": null,
   "metadata": {
    "collapsed": false
   },
   "outputs": [],
   "source": [
    "def absolute_error(true_value, approx_value):\n",
    "    return abs(true_value - approx_value)\n",
    "\n",
    "print 'Absolute error: {0:.9f}'.format(absolute_error(10.951, 10.949))\n",
    "\n",
    "def relative_error(true_value, approx_value):\n",
    "    return absolute_error(true_value, approx_value) / abs(true_value)\n",
    "\n",
    "print 'Relative error: {0:.9f}'.format(relative_error(10.951, 10.949))"
   ]
  },
  {
   "cell_type": "markdown",
   "metadata": {},
   "source": [
    "### Relative Error for Non-Scalars\n",
    "For non-scalars, calculating normalized value *||x|| = max / sum*, implies smaller components of **x** are bound by absolute error only. Consider compensative relative error: *max(i) |xi - xi’| / |xi|*, which puts all components on equal footing."
   ]
  },
  {
   "cell_type": "code",
   "execution_count": null,
   "metadata": {
    "collapsed": false
   },
   "outputs": [],
   "source": [
    "import numpy as np\n",
    "\n",
    "def relative_error(true_value, approx_value):\n",
    "    return np.max(np.fabs((true_value - approx_value) / true_value))\n",
    "\n",
    "x_value = np.array([10000, 0.01])\n",
    "x_approx = np.array([9999, 0.02])\n",
    "                   \n",
    "print relative_error(x_value, x_approx)"
   ]
  },
  {
   "cell_type": "markdown",
   "metadata": {},
   "source": [
    "# Measuring Accuracy\n",
    "## Backward and Forward Errors\n",
    "* Forward error - error of the computed value\n",
    "* Backward error:\n",
    "  * Let y = f(x), given x we approximate f(x) with y’\n",
    "  * Let dx be the smallest quantity where y’ = f(x + dx) in exact computation\n",
    "  * Then dx is the backward error\n",
    "* Benefits of using backward error:\n",
    "  * Unifies error w/ perturbation in the data\n",
    "  * Removes the need to calculate forward error\n",
    "* Forward-backward error:\n",
    "  * f(x + dx) = y + dy\n",
    "  * Used to define stability of computation where just using backward error isn’t possible, e.g. sin, cos\n",
    "* **If rounding errors are dominant source of errors, we call an algorithm numerically stable if it is stable in forward-backward error sense**\n",
    "## Condition Number\n",
    "* Condition number of a function with respect to its arguments is used to measure how how much the output of the function will change for a small change in the input\n",
    "* As a rule of thumb, if the condition number kappa(A) = 10^k, then you may lose up to k digits of accuracy on top of what would be lost to the numerical method due to loss of precision from arithmetic methods\n",
    "* A problem with a low condition number is said to be well-conditioned, while a problem with a high condition number is said to be ill-conditioned\n",
    "* For example, the condition number associated with the linear equation Ax = b gives a bound on how inaccurate the solution x will be after approximation. Note that this is before the effects of round-off error are taken into account; conditioning is a property of the matrix, not the algorithm or floating point accuracy of the computer used to solve the corresponding system.\n",
    "\n",
    "An important example of an **ill-conditioned problem is finding roots of a polynomial**. Let's look at Wilkinson’s polynomial as an example."
   ]
  },
  {
   "cell_type": "code",
   "execution_count": null,
   "metadata": {
    "collapsed": false
   },
   "outputs": [],
   "source": [
    "# Wilkinson's polynomial is defined as p(x) = (x - 1)(x - 2)...(x - 20)\n",
    "import numpy as np\n",
    "x = np.linspace(0, 20, 4000)\n",
    "y = 1\n",
    "for i in range(1, 20):\n",
    "    y *= (x - i)\n",
    "import matplotlib.pyplot as plt\n",
    "%matplotlib inline\n",
    "plt.ylim([-4e11, 4e11])\n",
    "plt.plot(x, y)"
   ]
  },
  {
   "cell_type": "markdown",
   "metadata": {},
   "source": [
    "Quoting Wikipedia:\n",
    "* *\"If the coefficient of x19 is decreased from −210 by 2−23 to −210.0000001192, then the polynomial value w(20) decreases from 0 to −6.25×10^17, and the root at x = 20 grows to x ≈ 20.8. The roots at x = 18 and x = 19 collide into a double root at x ≈ 18.62 which turns into a pair of complex conjugate roots at x ≈ 19.5±1.9i as the perturbation increases further.\"*\n",
    "* *\"Wilkinson's polynomial is often used to illustrate the **undesirability of naively computing eigenvalues of a matrix by first calculating the coefficients of the matrix's characteristic polynomial** and then finding its roots, since using the coefficients as an intermediate step may introduce an extreme ill-conditioning even if the original problem was well conditioned\"*"
   ]
  },
  {
   "cell_type": "markdown",
   "metadata": {},
   "source": [
    "# Sources of Error\n",
    "## Truncation error (discretization error)\n",
    "Error coming from representing a function or continuous variable using finite number of evaluations - outside of scope of this notebook, mentioned for completeness only.\n",
    "## Round-off error\n",
    "* Difference between calculated approximation and exact value due to rounding\n",
    "* Related to representation error, which is due to representing numbers with finite number of digits"
   ]
  },
  {
   "cell_type": "code",
   "execution_count": null,
   "metadata": {
    "collapsed": false
   },
   "outputs": [],
   "source": [
    "import numpy as np\n",
    "x = np.float64(0.1)\n",
    "y = np.float32(0.1)\n",
    "print '32- vs 64-bit representation difference:', abs(x - y)"
   ]
  },
  {
   "cell_type": "markdown",
   "metadata": {},
   "source": [
    "### Rounding Multiple Times Can Accumulate Error"
   ]
  },
  {
   "cell_type": "code",
   "execution_count": null,
   "metadata": {
    "collapsed": false
   },
   "outputs": [],
   "source": [
    "import numpy as np\n",
    "# For explanation why we we use np.round rather than default Python 2.7.3 round function, see below\n",
    "x = 9.945309 \n",
    "print np.round(x, 2), np.round(np.round(x, 2), 1)\n",
    "print np.round(x, 1)"
   ]
  },
  {
   "cell_type": "markdown",
   "metadata": {},
   "source": [
    "#### (Optional) Differences between round and np.round\n",
    "\n",
    "There are few differences between built-in Python 2.7 round function and numpy (a)round:\n",
    "\n",
    "* The built in function rounds away from zero\n",
    "* Numpy round rounds to even, which tends to skew the results less and is a commonly accepted rounding method\n",
    "* From my (limited) exerience it looks numpy round is much better behaved in dealing with decimal-to-binary float rounding errors\n",
    "\n",
    "Note that Python 3 has a different round function that behaves more similarly to numpy round."
   ]
  },
  {
   "cell_type": "code",
   "execution_count": null,
   "metadata": {
    "collapsed": false
   },
   "outputs": [],
   "source": [
    "import numpy as np\n",
    "for i in range(13):\n",
    "    x = -3 + 0.5 * i\n",
    "    print '\\t{0:5.1f}\\t{1:5.1f}\\t{2:5.1f}'.format(x, round(x), np.round(x))"
   ]
  },
  {
   "cell_type": "markdown",
   "metadata": {},
   "source": [
    "## Loss of significance\n",
    "Error in floating point arithmetic when an operation increases relative error substantially more than absolute error"
   ]
  },
  {
   "cell_type": "code",
   "execution_count": null,
   "metadata": {
    "collapsed": false
   },
   "outputs": [],
   "source": [
    "x_value = 0.123123\n",
    "y_value = 0.123000\n",
    "# We want to learn the value of d = x - y:\n",
    "d_value = x_value - y_value\n",
    "print 'Actual d value:', \n",
    "# Assuming we're apprximating above calculation with a 4 decimal digits precision:\n",
    "import numpy as np\n",
    "d_approx = np.round(x_value, 4) - np.round(y_value, 4)\n",
    "print 'Approx d value:', d_approx\n",
    "print 'Absolute error: {0:.9f}'.format(abs(d_value - d_approx))\n",
    "print 'Relative error: {0:.9f}'.format(abs((d_value - d_approx) / d_value))"
   ]
  },
  {
   "cell_type": "markdown",
   "metadata": {},
   "source": [
    "### Cancellation\n",
    "Cancellation is an example of loss of significance and it happens when two nearly equal numbers are subtracted and can lead to significant inaccuracies. As an example let's look at function:  \n",
    "f(x) = (1 - cos x) / x^2  \n",
    "We can see that calculating f(x) near zero may lead to issues, since cos(0) = 1."
   ]
  },
  {
   "cell_type": "code",
   "execution_count": null,
   "metadata": {
    "collapsed": false
   },
   "outputs": [],
   "source": [
    "import numpy as np\n",
    "from math import sin, cos\n",
    "near_zero = 1.2e-8\n",
    "def f(x):\n",
    "    return (1 - np.cos(x)) / x**2\n",
    "print 'Value of f near zero:', f(near_zero)\n",
    "x = np.linspace(near_zero, 10, 100)\n",
    "y = f(x)\n",
    "import matplotlib.pyplot as plt\n",
    "%matplotlib inline\n",
    "plt.ylim([0, 1])\n",
    "plt.plot(x, y)"
   ]
  },
  {
   "cell_type": "markdown",
   "metadata": {},
   "source": [
    "Fortunately, we can rewrite f(x) in a form that is less prone to cancellation:"
   ]
  },
  {
   "cell_type": "code",
   "execution_count": null,
   "metadata": {
    "collapsed": false
   },
   "outputs": [],
   "source": [
    "def g(x):\n",
    "    return 0.5 * (2 * np.sin(x / 2) / x)**2\n",
    "print 'Value of g near zero:', g(near_zero)\n",
    "x = np.linspace(near_zero, 10, 100)\n",
    "y = g(x)\n",
    "import matplotlib.pyplot as plt\n",
    "%matplotlib inline\n",
    "plt.ylim([0, 1])\n",
    "plt.plot(x, y)"
   ]
  },
  {
   "cell_type": "markdown",
   "metadata": {},
   "source": [
    "Summing numbers: https://docs.python.org/2/library/math.html https://en.m.wikipedia.org/wiki/Kahan_summation_algorithm\n",
    "Interestingly, IPython Notebook appears to do the right thing by default, what?\n",
    "IPython session:\n",
    "\n",
    "In [6]: from math import fsum\n",
    "\n",
    "In [7]: sum([0.1] * 10) Out[7]: 0.9999999999999999\n",
    "\n",
    "In [8]: fsum([0.1] * 10) Out[8]: 1.0"
   ]
  },
  {
   "cell_type": "code",
   "execution_count": null,
   "metadata": {
    "collapsed": false
   },
   "outputs": [],
   "source": [
    "from math import fsum\n",
    "print '{0:0.20f}'.format(sum([0.1] * 10))\n",
    "print '{0:0.20f}'.format(fsum([0.1] * 10))"
   ]
  },
  {
   "cell_type": "markdown",
   "metadata": {},
   "source": [
    "### Calculations without subtractions are fine, right?\n",
    "Hint: No, we can still over/under-flow the floating point precision numbers."
   ]
  },
  {
   "cell_type": "code",
   "execution_count": null,
   "metadata": {
    "collapsed": false
   },
   "outputs": [],
   "source": [
    "def naive_e(n):\n",
    "    return (1 + 1.0 / n)**n\n",
    "\n",
    "from math import exp\n",
    "e = exp(1)\n",
    "\n",
    "for i in range(5, 20):\n",
    "    print naive_e(10**i) - e"
   ]
  },
  {
   "cell_type": "code",
   "execution_count": null,
   "metadata": {
    "collapsed": false
   },
   "outputs": [],
   "source": [
    "from math import sqrt\n",
    "def identity(x, n):\n",
    "    for i in xrange(n):\n",
    "        x = sqrt(x)\n",
    "    for i in xrange(n):\n",
    "        x = x**2\n",
    "    return x\n",
    "x = 2\n",
    "for i in xrange(35, 60):\n",
    "    print x - identity(x, i)"
   ]
  },
  {
   "cell_type": "markdown",
   "metadata": {
    "collapsed": false
   },
   "source": [
    "### Sometimes the rounding errors cancel out and produce a result more accurate than the intermediate calculations"
   ]
  },
  {
   "cell_type": "code",
   "execution_count": null,
   "metadata": {
    "collapsed": false
   },
   "outputs": [],
   "source": [
    "# Computing f(x) = (exp(x) - 1) / x == sum(x^i / (i + 1)!)\n",
    "\n",
    "from math import exp, log\n",
    "\n",
    "def f1(x):\n",
    "    if 0 == x:\n",
    "        return 1\n",
    "    return (exp(x) - 1) / x\n",
    "\n",
    "def f2(x):\n",
    "    if 0 == x:\n",
    "        return 1\n",
    "    y = exp(x)\n",
    "    return (y - 1) / log(y)\n",
    "\n",
    "# f(epsilon) ~= 1\n",
    "for i in range(8, 15):\n",
    "    epsilon = 1.0 / (10**i)\n",
    "    print 'epsilon:', epsilon\n",
    "    print '|1 - f1(epsilon)|:', abs(1 - f1(epsilon))\n",
    "    print '|1 - f2(epsilon)|:', abs(1 - f2(epsilon))\n",
    "    print\n",
    "# NOTE: Above doesn't hold if we calculate for powers of 2!\n",
    "# for i in range(30, 40):\n",
    "#     print abs(1 - f1(1.0 / (2**i))), abs(1 - f2(1.0 / (2**i)))"
   ]
  },
  {
   "cell_type": "markdown",
   "metadata": {},
   "source": [
    "## Rounding errors are not random"
   ]
  },
  {
   "cell_type": "code",
   "execution_count": null,
   "metadata": {
    "collapsed": false
   },
   "outputs": [],
   "source": [
    "import numpy as np\n",
    "\n",
    "def r(x):\n",
    "    # Calculate value of a rational function using Horner's rule (https://en.wikipedia.org/wiki/Horner%27s_method)\n",
    "    # More on the function can be looked up on Wolfram's Alpha:\n",
    "    # http://www.wolframalpha.com/input/?i=f(x)+%3D+(622.0+-+x+*+(751.0+-+x+*+(324.0+-+x+*+(59.0+-+4+*+x))))+%2F+(112+-+x+*+(151+-+x+*+(72+-+x+*+(14+-+x))))&t=crmtb01\n",
    "    p = 622.0 - x * (751.0 - x * (324.0 - x * (59.0 - 4 * x)))\n",
    "    q = 112 - x * (151 - x * (72 - x * (14 - x)))\n",
    "    return p / q\n",
    "\n",
    "def calc_f(a):\n",
    "    t = np.array([a + k * 2**-52 for k in xrange(400)])\n",
    "    t = r(t)\n",
    "    t -= t[0]\n",
    "    t *= 1.0 / max(abs(t))\n",
    "    return t\n",
    "\n",
    "import matplotlib.pyplot as plt\n",
    "%matplotlib inline\n",
    "\n",
    "def plot(t):\n",
    "    plt.plot(t, linestyle='--', marker='o')\n",
    "    plt.show()\n",
    "    \n",
    "for a in [1.606, 4, 8, 16, 32]:\n",
    "    plot(calc_f(a))"
   ]
  },
  {
   "cell_type": "markdown",
   "metadata": {},
   "source": [
    "# Examples\n",
    "## Variance Calculation\n",
    "There are two concepts that we refer to as variance:\n",
    "\n",
    "0. A property of a distribution\n",
    "0. A characteristic of a set of observations\n",
    "\n",
    "Variance of a random variable X is defined as:  \n",
    "Var(X) = E[(X - E[X])^2] = ... = E[X^2] - (E[X])^2  \n",
    "Where E[Z] is the expected value of a random variable Z.\n",
    "\n",
    "**The second form (E[X^2] - (E[X])^2) should be avoided when performing calculations on a fixed precision machine.** Although it has a nice property that for sample variance it is easy to implement it while traversing the data just once, naive implementations usually suffer from extreme cancellation."
   ]
  },
  {
   "cell_type": "code",
   "execution_count": null,
   "metadata": {
    "collapsed": false
   },
   "outputs": [],
   "source": [
    "# Calculate the variance of X = sum of dice in N throws. The probabilities of each side of dice are given.\n",
    "import numpy as np\n",
    "\n",
    "# Dice sides probabilities, p[i] = probability of throwing i. We use fractions to be able to compare our calculations to\n",
    "# 'exact' values:\n",
    "from fractions import Fraction as F\n",
    "from numpy.random import randint as ri\n",
    "max = 1000000\n",
    "pf = np.array([0] + [F(ri(max), 1) for _ in range(6)])\n",
    "pf /= sum(pf)\n",
    "p = np.array([float(f) for f in pf])\n",
    "\n",
    "# Number of throws\n",
    "N = 10000 # 30000\n",
    "\n",
    "# Dynamic program, we're holding probability of throwing k-dice for each possibility.\n",
    "# First iteration:\n",
    "dp = np.ones(1)\n",
    "for i in range(N):\n",
    "    dp = np.convolve(dp, p)\n",
    "print dp\n",
    "\n",
    "# Let's calculate variance using both ways.\n",
    "\n",
    "dice = np.arange(len(dp))\n",
    "\n",
    "# var1 = E[(X - E[X])^2]\n",
    "ex = (p * np.arange(7)).sum() * N\n",
    "var1 = (dp * (dice - ex)**2).sum()\n",
    "print 'Variance calculated using: E[(X - E[X])^2]:   ', var1\n",
    "\n",
    "# var2 = E[X^2] - (E[X])^2\n",
    "ex2 = (dice**2 * dp).sum()\n",
    "var2 = ex2 - ex**2\n",
    "print 'Variance calculated using: E[X^2] - (E[X])^2: ', var2\n",
    "\n",
    "print 'E[X^2]:    ', ex2\n",
    "print '(E[X2])^2: ', ex**2\n",
    "\n",
    "# There is a simpler way to calculate variance in this particular problem, since all N throws are independent we can simply\n",
    "# calculate variability of one and multiply it by N. To make sure this calculation is as precise as possible, we use Python\n",
    "# representation of rational numbers.\n",
    "\n",
    "# Let's use equation 1: E[(X - E[X])^2]\n",
    "rangef = np.array([F(i, 1) for i in range(7)])\n",
    "exf = (rangef * pf).sum()\n",
    "ex2f = (rangef**2 * pf).sum()\n",
    "varf = ex2f - exf**2\n",
    "varf *= N\n",
    "print 'Variance calculated fractions:                ', float(varf)\n",
    "\n",
    "print 'Relative error of: E[(X - E[X])^2]:   ', abs((var1 - varf) / varf)\n",
    "print 'Relative error of: E[X^2] - (E[X])^2: ', abs((var2 - varf) / varf)"
   ]
  },
  {
   "cell_type": "markdown",
   "metadata": {},
   "source": [
    "There's more to calculating variance, but a good rule of a thumb is - if you're fine calculating variance based on E[(X - E[X])^2] equation, you should be fine."
   ]
  },
  {
   "cell_type": "markdown",
   "metadata": {
    "collapsed": true
   },
   "source": [
    "<h1>Designing stable algorithms</h1>\n",
    "\n",
    "0. **Try to avoid subtracting quantities contaminated by error** (though such subtractions may be unavoidable)\n",
    "0. **Minimize the size of intermediate quantities relative to the final solution**\n",
    "    0. Otherwise the final answer may be the result of damaging subtractive cancellation\n",
    "    0. See Gaussian elimination or recursive summation\n",
    "0. **Look for different formulations of a computation that are mathematically but not numerically equivalent**\n",
    "    0. The classical Gram-Schmidt method is unstable, but a trivial modification produces the stable modified Gram-Schmidt (MGS) method\n",
    "    0. There are two ways of using the MGS method to solve a least squares problem, the more obvious of which is unstable.\n",
    "0. **It is advantageous to express update formulae as:**  \n",
    "***new_value = old_value + small_correction***  \n",
    "**if the small correction can be computed with many correct significant figures**  \n",
    "Numerical methods are often naturally expressed in this form, examples include\n",
    "    0. Methods for solving ordinary differential equations, where the correction is proportional to a stepsize\n",
    "    0. Newton's method for solving a nonlinear system\n",
    "    0. A classic example of the use of this update strategy is in iterative refinement for improving the computed solution to a linear system:  \n",
    "Ax = b  \n",
    "    in which by computing residuals r = b - Ay in extended precision and solving update equations that have the residuals as right-hand sides a highly accurate solution can be computed\n",
    "0. **Use only well-conditioned transformations of the problem**\n",
    "     0. In matrix computations this amounts to multiplying by orthogonal matrices instead of nonorthogonal, and possibly, ill-conditioned matrices, where possible\n",
    "0. **Take precautions to avoid unnecessary overflow and underflow**"
   ]
  }
 ],
 "metadata": {
  "kernelspec": {
   "display_name": "Python 2",
   "language": "python",
   "name": "python2"
  },
  "language_info": {
   "codemirror_mode": {
    "name": "ipython",
    "version": 2
   },
   "file_extension": ".py",
   "mimetype": "text/x-python",
   "name": "python",
   "nbconvert_exporter": "python",
   "pygments_lexer": "ipython2",
   "version": "2.7.11"
  }
 },
 "nbformat": 4,
 "nbformat_minor": 0
}
