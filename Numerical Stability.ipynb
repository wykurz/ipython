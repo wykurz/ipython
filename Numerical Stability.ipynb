{
 "cells": [
  {
   "cell_type": "markdown",
   "metadata": {},
   "source": [
    "# Background\n",
    "In this section we introduce methods of measuring precision - number of significant digits, absolute and relative error. We also encourage the reader to use absolute error in order to be most precise."
   ]
  },
  {
   "cell_type": "markdown",
   "metadata": {},
   "source": [
    "## Significant Digits"
   ]
  },
  {
   "cell_type": "markdown",
   "metadata": {},
   "source": [
    "The number of significant digits may be imprecise"
   ]
  },
  {
   "cell_type": "code",
   "execution_count": null,
   "metadata": {
    "collapsed": true
   },
   "outputs": [],
   "source": [
    "# Definition 1: Round down to p-sig. digit number\n",
    "x  = 0.90\n",
    "x1 = 0.99 # 2 correct significant digit, actual difference 0.09\n",
    "x2 = 0.89 # 1 correct significant digit, actual difference 0.01"
   ]
  },
  {
   "cell_type": "code",
   "execution_count": null,
   "metadata": {
    "collapsed": true
   },
   "outputs": [],
   "source": [
    "# Definition 2: Round to nearest p-sig. digit number\n",
    "y  = 0.9951 # --> 0.10\n",
    "y1 = 0.9499 # --> 0.90 , only 1 correct sig. digit\n",
    "y2 = 1.0000 # --> 0.10 , 3 correct sig. digits"
   ]
  },
  {
   "cell_type": "markdown",
   "metadata": {},
   "source": [
    "The last definition avoids issues that the previous two had, but it's still non-ideal"
   ]
  },
  {
   "cell_type": "code",
   "execution_count": null,
   "metadata": {
    "collapsed": true
   },
   "outputs": [],
   "source": [
    "# Definition 3: Numbers x and x' match to p-sig. digits if x - x' < half a unit in p-th sig. digit of x\n",
    "x1 = 0.123\n",
    "x2 = 0.127\n",
    "# 0.004 < (0.01 / 2) => x1 and x2 match in 2 significant digits according to this definition wchich may be slightly confusing "
   ]
  },
  {
   "cell_type": "markdown",
   "metadata": {},
   "source": [
    "## Absolute and relative error"
   ]
  },
  {
   "cell_type": "code",
   "execution_count": 52,
   "metadata": {
    "collapsed": false
   },
   "outputs": [
    {
     "name": "stdout",
     "output_type": "stream",
     "text": [
      "Absolute error: 0.002000000\n",
      "Relative error: 0.000182632\n"
     ]
    }
   ],
   "source": [
    "def absolute_error(true_value, approx_value):\n",
    "    return abs(true_value - approx_value)\n",
    "\n",
    "print 'Absolute error: {0:.9f}'.format(absolute_error(10.951, 10.949))\n",
    "\n",
    "def relative_error(true_value, approx_value):\n",
    "    return absolute_error(true_value, approx_value) / abs(true_value)\n",
    "\n",
    "print 'Relative error: {0:.9f}'.format(relative_error(10.951, 10.949))"
   ]
  },
  {
   "cell_type": "markdown",
   "metadata": {},
   "source": [
    "### Relative Error for Non-Scalars\n",
    "For non-scalars, calculating normalized value *||x|| = max / sum*, implies smaller components of **x** are bound by absolute error only. Consider compensative relative error: *max(i) |xi - xi’| / |xi|*, which puts all components on equal footing."
   ]
  },
  {
   "cell_type": "code",
   "execution_count": null,
   "metadata": {
    "collapsed": false
   },
   "outputs": [],
   "source": [
    "import numpy as np\n",
    "\n",
    "def relative_error(true_value, approx_value):\n",
    "    return np.max(np.fabs((true_value - approx_value) / true_value))\n",
    "\n",
    "x_value = np.array([10000, 0.01])\n",
    "x_approx = np.array([9999, 0.02])\n",
    "                   \n",
    "print relative_error(x_value, x_approx)"
   ]
  },
  {
   "cell_type": "markdown",
   "metadata": {},
   "source": [
    "# Sources of Error"
   ]
  },
  {
   "cell_type": "markdown",
   "metadata": {},
   "source": [
    "## Truncation error (discretization error)\n",
    "Error coming from representing a function or continuous variable using finite number of evaluations - outside of scope of this notebook, mentioned for completeness only."
   ]
  },
  {
   "cell_type": "markdown",
   "metadata": {},
   "source": [
    "## Round-off error\n",
    "* Difference between calculated approximation and exact value due to rounding\n",
    "* Related to representation error, which is due to representing numbers with finite number of digits"
   ]
  },
  {
   "cell_type": "code",
   "execution_count": 76,
   "metadata": {
    "collapsed": false
   },
   "outputs": [
    {
     "name": "stdout",
     "output_type": "stream",
     "text": [
      "32- vs 64-bit representation difference: 1.49011611383e-09\n"
     ]
    }
   ],
   "source": [
    "import numpy as np\n",
    "x = np.float64(0.1)\n",
    "y = np.float32(0.1)\n",
    "print '32- vs 64-bit representation difference:', abs(x - y)"
   ]
  },
  {
   "cell_type": "markdown",
   "metadata": {},
   "source": [
    "### Rounding Multiple Times Can Accumulate Error"
   ]
  },
  {
   "cell_type": "code",
   "execution_count": null,
   "metadata": {
    "collapsed": false
   },
   "outputs": [],
   "source": [
    "import numpy as np\n",
    "# For explanation why we we use np.round rather than default Python 2.7.3 round function, see below\n",
    "x = 9.945309 \n",
    "print np.round(x, 2), np.round(np.round(x, 2), 1)\n",
    "print np.round(x, 1)"
   ]
  },
  {
   "cell_type": "markdown",
   "metadata": {},
   "source": [
    "#### (Optional) Differences between round and np.round\n",
    "\n",
    "There are few differences between built-in Python 2.7 round function and numpy (a)round:\n",
    "\n",
    "* The built in function rounds away from zero\n",
    "* Numpy round rounds to even, which tends to skew the results less and is a commonly accepted rounding method\n",
    "* From my (limited) exerience it looks numpy round is much better behaved in dealing with decimal-to-binary float rounding errors\n",
    "\n",
    "Note that Python 3 has a different round function that behaves more similarly to numpy round."
   ]
  },
  {
   "cell_type": "code",
   "execution_count": 47,
   "metadata": {
    "collapsed": false
   },
   "outputs": [
    {
     "name": "stdout",
     "output_type": "stream",
     "text": [
      "\t -3.0\t -3.0\t -3.0\n",
      "\t -2.5\t -3.0\t -2.0\n",
      "\t -2.0\t -2.0\t -2.0\n",
      "\t -1.5\t -2.0\t -2.0\n",
      "\t -1.0\t -1.0\t -1.0\n",
      "\t -0.5\t -1.0\t  0.0\n",
      "\t  0.0\t  0.0\t  0.0\n",
      "\t  0.5\t  1.0\t  0.0\n",
      "\t  1.0\t  1.0\t  1.0\n",
      "\t  1.5\t  2.0\t  2.0\n",
      "\t  2.0\t  2.0\t  2.0\n",
      "\t  2.5\t  3.0\t  2.0\n",
      "\t  3.0\t  3.0\t  3.0\n"
     ]
    }
   ],
   "source": [
    "import numpy as np\n",
    "for i in range(13):\n",
    "    x = -3 + 0.5 * i\n",
    "    print '\\t{0:5.1f}\\t{1:5.1f}\\t{2:5.1f}'.format(x, round(x), np.round(x))"
   ]
  },
  {
   "cell_type": "markdown",
   "metadata": {},
   "source": [
    "## Loss of significance\n",
    "Error in floating point arithmetic when an operation increases relative error substantially more than absolute error"
   ]
  },
  {
   "cell_type": "code",
   "execution_count": 78,
   "metadata": {
    "collapsed": false
   },
   "outputs": [
    {
     "name": "stdout",
     "output_type": "stream",
     "text": [
      "Actual d value: Approx d value: 0.0001\n",
      "Absolute error: 0.000023000\n",
      "Relative error: 0.186991870\n"
     ]
    }
   ],
   "source": [
    "x_value = 0.123123\n",
    "y_value = 0.123000\n",
    "# We want to learn the value of d = x - y:\n",
    "d_value = x_value - y_value\n",
    "print 'Actual d value:', \n",
    "# Assuming we're apprximating above calculation with a 4 decimal digits precision:\n",
    "import numpy as np\n",
    "d_approx = np.round(x_value, 4) - np.round(y_value, 4)\n",
    "print 'Approx d value:', d_approx\n",
    "print 'Absolute error: {0:.9f}'.format(abs(d_value - d_approx))\n",
    "print 'Relative error: {0:.9f}'.format(abs((d_value - d_approx) / d_value))"
   ]
  },
  {
   "cell_type": "markdown",
   "metadata": {},
   "source": [
    "## Precision vs Accuracy\n",
    "* Precision is the accuracy of basic arithmetic operations used in the computation\n",
    "* Accuracy is the absolute or relative error of the approximate quantity\n",
    "* NOTE: Accuracy is not limited by precision, finite precision arithmetic can simulate any precision with more computation"
   ]
  },
  {
   "cell_type": "markdown",
   "metadata": {},
   "source": [
    "## Backward and Forward Errors\n",
    "* Forward error - error of the computed value\n",
    "* Backward error:\n",
    "  * Let y = f(x), given x we approximate f(x) with y’\n",
    "  * Let dx be the smallest quantity where y’ = f(x + dx) in exact computation\n",
    "  * Then dx is the backward error\n",
    "* Benefits of using backward error:\n",
    "  * Unifies error w/ perturbation in the data\n",
    "  * Removes the need to calculate forward error\n",
    "* Forward-backward error:\n",
    "  * f(x + dx) = y + dy\n",
    "  * Used to define stability of computation where just using backward error isn’t possible, e.g. sin, cos\n",
    "* **If rounding errors are dominant source of errors, we call an algorithm numerically stable if it is stable in forward-backward error sense**"
   ]
  },
  {
   "cell_type": "markdown",
   "metadata": {},
   "source": [
    "## Condition Number\n",
    "* Condition number of a function with respect to its arguments is used to measure how how much the output of the function will change for a small change in the input\n",
    "* As a rule of thumb, if the condition number kappa(A) = 10^k, then you may lose up to k digits of accuracy on top of what would be lost to the numerical method due to loss of precision from arithmetic methods\n",
    "* A problem with a low condition number is said to be well-conditioned, while a problem with a high condition number is said to be ill-conditioned\n",
    "* For example, the condition number associated with the linear equation Ax = b gives a bound on how inaccurate the solution x will be after approximation. Note that this is before the effects of round-off error are taken into account; conditioning is a property of the matrix, not the algorithm or floating point accuracy of the computer used to solve the corresponding system."
   ]
  },
  {
   "cell_type": "markdown",
   "metadata": {},
   "source": [
    "### Finding Roots of a Polynomial\n",
    "Finding roots of a polynomial is not a well-conditioned problem, let's look at Wilkinson’s polynomial as an example."
   ]
  },
  {
   "cell_type": "code",
   "execution_count": 71,
   "metadata": {
    "collapsed": false
   },
   "outputs": [
    {
     "data": {
      "text/plain": [
       "[<matplotlib.lines.Line2D at 0xa4b07b8>]"
      ]
     },
     "execution_count": 71,
     "metadata": {},
     "output_type": "execute_result"
    },
    {
     "data": {
      "image/png": "[encoded data removed]",
      "text/plain": [
       "<matplotlib.figure.Figure at 0xa4b0b70>"
      ]
     },
     "metadata": {},
     "output_type": "display_data"
    }
   ],
   "source": [
    "# Wilkinson's polynomial is defined as p(x) = (x - 1)(x - 2)...(x - 20)\n",
    "import numpy as np\n",
    "x = np.linspace(0, 20, 4000)\n",
    "y = 1\n",
    "for i in range(1, 20):\n",
    "    y *= (x - i)\n",
    "import matplotlib.pyplot as plt\n",
    "%matplotlib inline\n",
    "plt.ylim([-4e11, 4e11])\n",
    "plt.plot(x, y)"
   ]
  },
  {
   "cell_type": "markdown",
   "metadata": {},
   "source": [
    "Quoting Wikipedia:\n",
    "* *\"If the coefficient of x19 is decreased from −210 by 2−23 to −210.0000001192, then the polynomial value w(20) decreases from 0 to −6.25×10^17, and the root at x = 20 grows to x ≈ 20.8. The roots at x = 18 and x = 19 collide into a double root at x ≈ 18.62 which turns into a pair of complex conjugate roots at x ≈ 19.5±1.9i as the perturbation increases further.\"*\n",
    "* *\"Wilkinson's polynomial is often used to illustrate the **undesirability of naively computing eigenvalues of a matrix by first calculating the coefficients of the matrix's characteristic polynomial** and then finding its roots, since using the coefficients as an intermediate step may introduce an extreme ill-conditioning even if the original problem was well conditioned\"*"
   ]
  },
  {
   "cell_type": "code",
   "execution_count": null,
   "metadata": {
    "collapsed": false
   },
   "outputs": [],
   "source": [
    "import numpy as np\n",
    "x = np.float64(0.1)\n",
    "y = np.float32(0.1)\n",
    "print 'Relative error: ', abs(x - y)\n",
    "print 'Absolute error: ', abs(x - y) / abs(x)"
   ]
  },
  {
   "cell_type": "markdown",
   "metadata": {},
   "source": [
    "<h1>Cancellation examples</h1>"
   ]
  },
  {
   "cell_type": "code",
   "execution_count": null,
   "metadata": {
    "collapsed": false
   },
   "outputs": [],
   "source": [
    "from math import sin, cos\n",
    "\n",
    "near_zero = 1.2e-8\n",
    "\n",
    "def f(x):\n",
    "    return (1 - cos(x)) / x**2\n",
    "print f(near_zero)\n",
    "\n",
    "# Rewrite f(x) as g(x) (meaning f(x) == g(x)):\n",
    "def g(x):\n",
    "    return 0.5 * (2 * sin(x / 2) / x)**2\n",
    "\n",
    "print g(near_zero)\n",
    "\n",
    "# for i in range(1, 101):\n",
    "#     val = i * 0.1\n",
    "#     print f(val) - g(val)"
   ]
  },
  {
   "cell_type": "markdown",
   "metadata": {},
   "source": [
    "Summing numbers: https://docs.python.org/2/library/math.html https://en.m.wikipedia.org/wiki/Kahan_summation_algorithm\n",
    "Interestingly, IPython Notebook appears to do the right thing by default, what?\n",
    "IPython session:\n",
    "\n",
    "In [6]: from math import fsum\n",
    "\n",
    "In [7]: sum([0.1] * 10) Out[7]: 0.9999999999999999\n",
    "\n",
    "In [8]: fsum([0.1] * 10) Out[8]: 1.0"
   ]
  },
  {
   "cell_type": "code",
   "execution_count": null,
   "metadata": {
    "collapsed": false
   },
   "outputs": [],
   "source": [
    "from math import fsum\n",
    "print sum([0.1] * 10)\n",
    "print fsum([0.1] * 10)"
   ]
  },
  {
   "cell_type": "markdown",
   "metadata": {},
   "source": [
    "<h1>Calculations without subtractions are fine, right?</h1>"
   ]
  },
  {
   "cell_type": "code",
   "execution_count": null,
   "metadata": {
    "collapsed": false
   },
   "outputs": [],
   "source": [
    "def naive_e(n):\n",
    "    return (1 + 1.0 / n)**n\n",
    "\n",
    "from math import exp\n",
    "e = exp(1)\n",
    "\n",
    "for i in range(5, 20):\n",
    "    print naive_e(10**i) - e"
   ]
  },
  {
   "cell_type": "code",
   "execution_count": null,
   "metadata": {
    "collapsed": false
   },
   "outputs": [],
   "source": [
    "from math import sqrt\n",
    "def identity(x, n):\n",
    "    for i in xrange(n):\n",
    "        x = sqrt(x)\n",
    "    for i in xrange(n):\n",
    "        x = x**2\n",
    "    return x\n",
    "\n",
    "x = 2\n",
    "for i in xrange(35, 60):\n",
    "    print x - identity(x, i)"
   ]
  },
  {
   "cell_type": "code",
   "execution_count": null,
   "metadata": {
    "collapsed": false
   },
   "outputs": [],
   "source": [
    "from math import fsum, pi\n",
    "\n",
    "def basel1(n):\n",
    "    r = 0\n",
    "    for i in xrange(n):\n",
    "        r += 1.0 / (i + 1)**2\n",
    "    return r\n",
    "\n",
    "def basel2(n):\n",
    "    r = 0\n",
    "    for i in reversed(xrange(n)):\n",
    "        r += 1.0 / (i + 1)**2\n",
    "    return r\n",
    "\n",
    "def basel3(n):\n",
    "    return sum(1.0 / (i + 1)**2 for i in xrange(n))\n",
    "\n",
    "def basel4(n):\n",
    "    return fsum(1.0 / (i + 1)**2 for i in xrange(n))\n",
    "        \n",
    "x = pi**2 / 6\n",
    "n = 1000000\n",
    "\n",
    "print x - basel1(n)\n",
    "print x - basel2(n)\n",
    "print x - basel3(n)\n",
    "print x - basel4(n)"
   ]
  },
  {
   "cell_type": "markdown",
   "metadata": {
    "collapsed": false
   },
   "source": [
    "<h1>Sometimes the rounding errors cancel out and produce a result more accurate than the intermediate calculations</h1>"
   ]
  },
  {
   "cell_type": "code",
   "execution_count": null,
   "metadata": {
    "collapsed": false
   },
   "outputs": [],
   "source": [
    "# Computing f(x) = (exp(x) - 1) / x == sum(x^i / (i + 1)!)\n",
    "\n",
    "from math import exp, log\n",
    "\n",
    "def f1(x):\n",
    "    if 0 == x:\n",
    "        return 1\n",
    "    return (exp(x) - 1) / x\n",
    "\n",
    "def f2(x):\n",
    "    if 0 == x:\n",
    "        return 1\n",
    "    y = exp(x)\n",
    "    return (y - 1) / log(y)\n",
    "\n",
    "# f(epsilon) ~= 1\n",
    "for i in range(8, 15):\n",
    "    print abs(1 - f1(1.0 / (10**i))), abs(1 - f2(1.0 / (10**i)))\n",
    "    \n",
    "# NOTE: Above doesn't hold if we calculate for powers of 2!\n",
    "# for i in range(30, 40):\n",
    "#     print abs(1 - f1(1.0 / (2**i))), abs(1 - f2(1.0 / (2**i)))"
   ]
  },
  {
   "cell_type": "markdown",
   "metadata": {},
   "source": [
    "<h1>Rounding errors are not random</h1>"
   ]
  },
  {
   "cell_type": "code",
   "execution_count": null,
   "metadata": {
    "collapsed": false
   },
   "outputs": [],
   "source": [
    "import numpy as np\n",
    "\n",
    "def r(x):\n",
    "    # Calculate value of a rational function using Horner's rule (https://en.wikipedia.org/wiki/Horner%27s_method)\n",
    "    # More on the function can be looked up on Wolfram's Alpha:\n",
    "    # http://www.wolframalpha.com/input/?i=f(x)+%3D+(622.0+-+x+*+(751.0+-+x+*+(324.0+-+x+*+(59.0+-+4+*+x))))+%2F+(112+-+x+*+(151+-+x+*+(72+-+x+*+(14+-+x))))&t=crmtb01\n",
    "    p = 622.0 - x * (751.0 - x * (324.0 - x * (59.0 - 4 * x)))\n",
    "    q = 112 - x * (151 - x * (72 - x * (14 - x)))\n",
    "    return p / q\n",
    "\n",
    "def calc_f(a):\n",
    "    t = np.array([a + k * 2**-52 for k in xrange(400)])\n",
    "    t = r(t)\n",
    "    t -= t[0]\n",
    "    t *= 1.0 / max(abs(t))\n",
    "    return t\n",
    "\n",
    "import matplotlib.pyplot as plt\n",
    "%matplotlib inline\n",
    "\n",
    "def plot(t):\n",
    "    plt.plot(t, linestyle='--', marker='o')\n",
    "    plt.show()\n",
    "    \n",
    "for a in [1.606, 4, 8, 16, 32]:\n",
    "    plot(calc_f(a))"
   ]
  },
  {
   "cell_type": "markdown",
   "metadata": {
    "collapsed": true
   },
   "source": [
    "<h1>Designing stable algorithms</h1>\n",
    "\n",
    "0. **Try to avoid subtracting quantities contaminated by error** (though such subtractions may be unavoidable)\n",
    "0. **Minimize the size of intermediate quantities relative to the finalsolution**\n",
    "    0. Otherwise the final answer may be the result of damaging subtractive cancellation\n",
    "    0. See Gaussian elimination or recursive summation\n",
    "0. **Look for different formulations of a computation that are mathematically but not numerically equivalent**\n",
    "    0. The classical Gram-Schmidt method is unstable, but a trivial modification produces the stable modified Gram-Schmidt (MGS) method\n",
    "    0. There are two ways of using the MGS method to solve a least squares problem, the more obvious of which is unstable.\n",
    "0. **It is advantageous to express update formulae as:**  \n",
    "***new_value = old_value + small_correction***  \n",
    "**if the small correction can be computed with many correct significant figures**  \n",
    "Numerical methods are often naturally expressed in this form, examples include\n",
    "    0. Methods for solving ordinary differential equations, where the correction is proportional to a stepsize\n",
    "    0. Newton's method for solving a nonlinear system\n",
    "    0. A classic example of the use of this update strategy is in iterative refinement for improving the computed solution to a linear system:  \n",
    "Ax = b  \n",
    "    in which by computing residuals r = b - Ay in extended precision and solving update equations that have the residuals as right-hand sides a highly accurate solution can be computed\n",
    "0. **Use only well-conditioned transformations of the problem**\n",
    "     0. In matrix computations this amounts to multiplying by orthogonal matrices instead of nonorthogonal, and possibly, ill-conditioned matrices, where possible\n",
    "0. **Take precautions to avoid unnecessary overflow and underflow**"
   ]
  }
 ],
 "metadata": {
  "kernelspec": {
   "display_name": "Python 2",
   "language": "python",
   "name": "python2"
  },
  "language_info": {
   "codemirror_mode": {
    "name": "ipython",
    "version": 2
   },
   "file_extension": ".py",
   "mimetype": "text/x-python",
   "name": "python",
   "nbconvert_exporter": "python",
   "pygments_lexer": "ipython2",
   "version": "2.7.11"
  }
 },
 "nbformat": 4,
 "nbformat_minor": 0
}
